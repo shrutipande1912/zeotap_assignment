{
 "cells": [
  {
   "cell_type": "code",
   "execution_count": 7,
   "id": "b4be3580",
   "metadata": {},
   "outputs": [
    {
     "name": "stdout",
     "output_type": "stream",
     "text": [
      "Shruti_Pande_Lookalike.csv has been created with the top 3 recommendations for the first 20 customers.\n"
     ]
    }
   ],
   "source": [
    "import pandas as pd\n",
    "from sklearn.metrics.pairwise import cosine_similarity\n",
    "from sklearn.preprocessing import StandardScaler, OneHotEncoder\n",
    "from sklearn.compose import ColumnTransformer\n",
    "\n",
    "# Load data\n",
    "customers = pd.read_csv(\"Customers.csv\")\n",
    "products = pd.read_csv(\"Products.csv\")\n",
    "transactions = pd.read_csv(\"Transactions.csv\")\n",
    "\n",
    "# Merge datasets\n",
    "merged_data = transactions.merge(customers, on=\"CustomerID\").merge(products, on=\"ProductID\")\n",
    "\n",
    "# Feature engineering: Aggregate transaction data for each customer\n",
    "customer_features = merged_data.groupby(\"CustomerID\").agg({\n",
    "    \"TotalValue\": \"sum\",         # Total spending\n",
    "    \"ProductID\": \"nunique\",      # Number of unique products purchased\n",
    "    \"Category\": lambda x: x.mode()[0]  # Most common product category\n",
    "}).reset_index()\n",
    "\n",
    "# Identify numerical and categorical columns\n",
    "numerical_cols = ['TotalValue', 'ProductID']\n",
    "categorical_cols = ['Category']\n",
    "\n",
    "# Preprocessing: One-hot encode categorical features and scale numerical features\n",
    "preprocessor = ColumnTransformer(\n",
    "    transformers=[\n",
    "        ('num', StandardScaler(), numerical_cols),  # Scale numerical features\n",
    "        ('cat', OneHotEncoder(), categorical_cols)  # Encode categorical features\n",
    "    ]\n",
    ")\n",
    "\n",
    "# Transform features\n",
    "transformed_features = preprocessor.fit_transform(customer_features)\n",
    "\n",
    "# Extract feature names (Compatible with older versions of scikit-learn)\n",
    "if hasattr(preprocessor.named_transformers_['cat'], 'get_feature_names'):\n",
    "    cat_feature_names = preprocessor.named_transformers_['cat'].get_feature_names(categorical_cols)\n",
    "else:\n",
    "    cat_feature_names = preprocessor.named_transformers_['cat'].get_feature_names_out(categorical_cols)\n",
    "\n",
    "columns = numerical_cols + list(cat_feature_names)\n",
    "\n",
    "# Convert to DataFrame\n",
    "import numpy as np\n",
    "normalized_features = pd.DataFrame(transformed_features, columns=columns)\n",
    "\n",
    "# Compute similarity matrix\n",
    "similarity_matrix = cosine_similarity(normalized_features)\n",
    "\n",
    "# Generate recommendations for the first 20 customers\n",
    "recommendations = {}\n",
    "for idx, customer_id in enumerate(customer_features[\"CustomerID\"][:20]):  # First 20 customers\n",
    "    # Get the indices of the 3 most similar customers\n",
    "    similar_indices = similarity_matrix[idx].argsort()[::-1][1:4]  # Skip the customer itself\n",
    "    # Store recommendations with similarity scores\n",
    "    recommendations[customer_id] = [\n",
    "        (customer_features[\"CustomerID\"][i], similarity_matrix[idx][i]) for i in similar_indices\n",
    "    ]\n",
    "\n",
    "# Convert recommendations to a DataFrame for export\n",
    "lookalike_df = pd.DataFrame.from_dict(recommendations, orient=\"index\", columns=[\"Similar1\", \"Similar2\", \"Similar3\"])\n",
    "lookalike_df.reset_index(inplace=True)\n",
    "lookalike_df.rename(columns={\"index\": \"CustomerID\"}, inplace=True)\n",
    "\n",
    "# Save recommendations to Lookalike.csv\n",
    "lookalike_df.to_csv(\"Shruti_Pande_Lookalike.csv\", index=False)\n",
    "\n",
    "print(\"Shruti_Pande_Lookalike.csv has been created with the top 3 recommendations for the first 20 customers.\")\n"
   ]
  },
  {
   "cell_type": "code",
   "execution_count": null,
   "id": "9a404b8f",
   "metadata": {},
   "outputs": [],
   "source": []
  },
  {
   "cell_type": "code",
   "execution_count": null,
   "id": "2709013f",
   "metadata": {},
   "outputs": [],
   "source": []
  }
 ],
 "metadata": {
  "kernelspec": {
   "display_name": "Python 3 (ipykernel)",
   "language": "python",
   "name": "python3"
  },
  "language_info": {
   "codemirror_mode": {
    "name": "ipython",
    "version": 3
   },
   "file_extension": ".py",
   "mimetype": "text/x-python",
   "name": "python",
   "nbconvert_exporter": "python",
   "pygments_lexer": "ipython3",
   "version": "3.9.7"
  }
 },
 "nbformat": 4,
 "nbformat_minor": 5
}
